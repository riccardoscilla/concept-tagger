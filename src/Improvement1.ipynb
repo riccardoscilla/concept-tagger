{
 "cells": [
  {
   "cell_type": "code",
   "execution_count": 4,
   "metadata": {},
   "outputs": [],
   "source": [
    "from preprocessing import *\n",
    "import pandas as pd\n",
    "import os\n",
    "from fst4conll import *\n",
    "from conll import *\n",
    "%matplotlib inline\n",
    "import matplotlib.pyplot as plt\n",
    "import numpy as np"
   ]
  },
  {
   "cell_type": "code",
   "execution_count": 5,
   "metadata": {},
   "outputs": [],
   "source": [
    "%%bash\n",
    "dpath='NL2SparQL4NLU/dataset/NL2SparQL4NLU'\n",
    "spath='dataset'\n",
    "mkdir -p $spath\n",
    "\n",
    "cp $dpath.train.utterances.txt $spath/trn.txt\n",
    "cp $dpath.test.utterances.txt $spath/tst.txt\n",
    "\n",
    "cp $dpath.train.conll.txt $spath/trn.conll\n",
    "cp $dpath.test.conll.txt $spath/tst.conll"
   ]
  },
  {
   "cell_type": "markdown",
   "metadata": {},
   "source": [
    "## Improvement 1: Remove O-tag"
   ]
  },
  {
   "cell_type": "code",
   "execution_count": 6,
   "metadata": {},
   "outputs": [],
   "source": [
    "#generate files\n",
    "if not os.path.exists('improvement1'):\n",
    "    os.makedirs('improvement1')\n",
    "tf_min=1\n",
    "#INPUT\n",
    "trn_data = read_corpus('dataset/trn.txt')\n",
    "trn_lex, out = cutoff(trn_data, tf_min)\n",
    "\n",
    "with open('improvement1/isyms.trn.txt', 'w') as f:\n",
    "    f.write(\"\\n\".join(trn_lex) + \"\\n\")\n",
    "\n",
    "#OUTPUT\n",
    "trn = read_corpus_conll('dataset/trn.conll')\n",
    "tags = get_column(trn, column=-1)\n",
    "        \n",
    "tlex, out_t = cutoff(tags, tf_min)\n",
    "with open('improvement1/osyms.t.lst.txt', 'w') as f:\n",
    "    f.write(\"\\n\".join(tlex) + \"\\n\")"
   ]
  },
  {
   "cell_type": "code",
   "execution_count": 7,
   "metadata": {},
   "outputs": [],
   "source": [
    "#create trn.wt.txt\n",
    "with open('dataset/trn.conll') as f:\n",
    "    content = f.read().strip('\\n').split('\\n\\n')\n",
    "with open('improvement1/trn.wt.txt', 'w') as f:\n",
    "    for sentence in content:\n",
    "        list_wt = [(x.split('\\t')[0], x.split('\\t')[1]) for x in sentence.split('\\n')]\n",
    "        list_t = []\n",
    "        for i in range(len(list_wt)):\n",
    "            tag = list_wt[i][1]\n",
    "            if tag == 'O':\n",
    "                tag = list_wt[i][0]\n",
    "            list_t.append(tag)\n",
    "        f.write(' '.join(list_t) +  '\\n')"
   ]
  },
  {
   "cell_type": "code",
   "execution_count": 8,
   "metadata": {},
   "outputs": [],
   "source": [
    "%%bash\n",
    "#make input/output lexicons\n",
    "bpath='improvement1'\n",
    "ngramsymbols $bpath/isyms.trn.txt   $bpath/isyms.txt\n",
    "ngramsymbols $bpath/osyms.t.lst.txt $bpath/osyms.t.txt\n",
    "\n",
    "rm $bpath/isyms.trn.txt\n",
    "rm $bpath/osyms.t.lst.txt"
   ]
  },
  {
   "cell_type": "markdown",
   "metadata": {},
   "source": [
    "## Create lexicon"
   ]
  },
  {
   "cell_type": "code",
   "execution_count": 9,
   "metadata": {},
   "outputs": [],
   "source": [
    "%%bash \n",
    "#use lexicons with both cutoff\n",
    "bpath='improvement1'\n",
    "cat $bpath/isyms.txt $bpath/osyms.t.txt | cut -f 1 | sort | uniq > $bpath/lex.lst.txt\n",
    "ngramsymbols $bpath/lex.lst.txt $bpath/lex.txt\n",
    "rm $bpath/lex.lst.txt"
   ]
  },
  {
   "cell_type": "markdown",
   "metadata": {},
   "source": [
    "## Extract test sentences"
   ]
  },
  {
   "cell_type": "code",
   "execution_count": 7,
   "metadata": {},
   "outputs": [],
   "source": [
    "%%bash\n",
    "farcompilestrings \\\n",
    "    --symbols=improvement1/lex.txt \\\n",
    "    --keep_symbols \\\n",
    "    --unknown_symbol='<unk>' \\\n",
    "    dataset/tst.txt tst.far\n",
    "\n",
    "wdir='improvement1/wdir'\n",
    "mkdir -p 'improvement1/wdir'\n",
    "farextract --filename_prefix=\"$wdir/\" tst.far"
   ]
  },
  {
   "cell_type": "markdown",
   "metadata": {},
   "source": [
    "## Create W2T MLE without O"
   ]
  },
  {
   "cell_type": "code",
   "execution_count": 8,
   "metadata": {},
   "outputs": [],
   "source": [
    "from collections import defaultdict\n",
    "import math\n",
    "\n",
    "# ---------------- if no cutoff ---------------------\n",
    "if tf_min < 2:\n",
    "    training_data = []\n",
    "    with open('dataset/trn.conll') as f:\n",
    "        content = f.read().strip('\\n').split('\\n\\n')\n",
    "        \n",
    "    for sentence in content:\n",
    "        list_wt = [(x.split('\\t')[0], x.split('\\t')[1]) for x in sentence.split('\\n')]\n",
    "        training_data += list_wt\n",
    "    \n",
    "    #replace O-tag with w\n",
    "    for i in range(len(training_data)):\n",
    "        if training_data[i][1] == 'O':\n",
    "            training_data[i] = (training_data[i][0], training_data[i][0])\n",
    "    \n",
    "    with open('improvement1/w2t_mle.txt', 'w') as f:\n",
    "        t_count = defaultdict(int)\n",
    "        wt_count = defaultdict(int)\n",
    "        p_wt = defaultdict(float)\n",
    "        # count c(w,t) and c(t)\n",
    "        for t in training_data:\n",
    "            t_count[t[1]] += 1\n",
    "            wt = \"{} {}\".format(t[0], t[1])\n",
    "            wt_count[wt] += 1\n",
    "               \n",
    "        # compute prob p(w|t) with add-alpha smoothing    \n",
    "        V = len(t_count)\n",
    "        alpha = 0\n",
    "        for wt in wt_count:\n",
    "            _,tag = wt.split()\n",
    "            p_wt[wt] =  - math.log( (wt_count[wt]+alpha) / (t_count[tag]+(alpha*V)))\n",
    "        for tag in t_count:\n",
    "            #if tag.startswith(\"B-\") or tag.startswith(\"I-\"):\n",
    "            p_wt[\"<unk> {}\".format(tag)] = - math.log(1 / V)\n",
    "        \n",
    "        for wt in p_wt:\n",
    "            w,t = wt.split()\n",
    "            f.write(\"0 0 {} {} {}\\n\".format(w, t, p_wt[wt]))\n",
    "        f.write('0')\n",
    "        \n",
    "# ---------------------- if cutoff --------------------------\n",
    "if tf_min > 1:\n",
    "    training_data = []\n",
    "    with open('dataset/trn.conll') as f:\n",
    "        content = f.read().strip('\\n').split('\\n\\n')\n",
    "\n",
    "    for sentence in content:\n",
    "        list_wt = [(x.split('\\t')[0], x.split('\\t')[1]) for x in sentence.split('\\n')]\n",
    "        training_data += list_wt\n",
    "    \n",
    "    #replace O-tag with w\n",
    "    for i in range(len(training_data)):\n",
    "        if training_data[i][1] == 'O':\n",
    "            training_data[i] = (training_data[i][0], training_data[i][0])\n",
    "    training_data = sorted(training_data,key = lambda x: x[1])\n",
    "    \n",
    "    #replace OOV words and tags with <unk>\n",
    "    for i in range(len(training_data)):\n",
    "        if training_data[i][0] in out:\n",
    "            if training_data[i][1] in out:\n",
    "                training_data[i] = ('<unk>', '<unk>')\n",
    "            else:\n",
    "                training_data[i] = ('<unk>', training_data[i][1])        \n",
    "        if training_data[i][1] in out_t:\n",
    "            training_data[i] = (training_data[i][0],'<unk>')\n",
    "    training_data = sorted(training_data,key = lambda x: x[1])\n",
    "    \n",
    "    with open('improvement1/w2t_mle.txt', 'w') as f:\n",
    "        t_count = defaultdict(int)\n",
    "        wt_count = defaultdict(int)\n",
    "        p_wt = defaultdict(float)\n",
    "        # count c(w,t) and c(t)\n",
    "        for t in training_data:\n",
    "            t_count[t[1]] += 1\n",
    "            wt = \"{} {}\".format(t[0], t[1])\n",
    "            wt_count[wt] += 1\n",
    "            \n",
    "        # compute prob p(w|t) with add-alpha smoothing    \n",
    "        V = len(t_count)\n",
    "        alpha = 1\n",
    "        for wt in wt_count:\n",
    "            word,tag = wt.split()\n",
    "            if word == '<unk>':\n",
    "                p_wt[wt] = - math.log(1 / V)\n",
    "            else:\n",
    "                p_wt[wt] =  - math.log( (wt_count[wt]+alpha) / (t_count[tag]+(alpha*V)) )\n",
    "                       \n",
    "        for wt in p_wt:\n",
    "            w,t = wt.split()\n",
    "            f.write(\"0 0 {} {} {}\\n\".format(w, t, p_wt[wt]))\n",
    "        f.write('0')"
   ]
  },
  {
   "cell_type": "code",
   "execution_count": 3,
   "metadata": {},
   "outputs": [
    {
     "name": "stdout",
     "output_type": "stream",
     "text": [
      "fst type                                          vector\n",
      "arc type                                          standard\n",
      "input symbol table                                improvement1/lex.txt\n",
      "output symbol table                               improvement1/lex.txt\n",
      "# of states                                       1\n",
      "# of arcs                                         3040\n",
      "initial state                                     0\n",
      "# of final states                                 1\n"
     ]
    }
   ],
   "source": [
    "%%bash\n",
    "bpath='improvement1'\n",
    "fstcompile \\\n",
    "    --isymbols=$bpath/lex.txt \\\n",
    "    --osymbols=$bpath/lex.txt \\\n",
    "    --keep_isymbols \\\n",
    "    --keep_osymbols \\\n",
    "    $bpath/w2t_mle.txt | fstarcsort - > $bpath/w2t_mle.bin\n",
    "    \n",
    "fstinfo $bpath/w2t_mle.bin | head -n 8  "
   ]
  },
  {
   "cell_type": "markdown",
   "metadata": {},
   "source": [
    "## Create LM"
   ]
  },
  {
   "cell_type": "code",
   "execution_count": 11,
   "metadata": {},
   "outputs": [],
   "source": [
    "%%bash\n",
    "#CREATE LANGUAGE MODELS\n",
    "mkdir -p 'improvement1/models'\n",
    "lmpath='improvement1/models'\n",
    "bpath='improvement1'\n",
    "for ngram in 1 2 3 4 5\n",
    "do\n",
    "    for smooth in \"absolute\" \"witten_bell\" \"kneser_ney\" \"katz\" \"presmoothed\" \"unsmoothed\"\n",
    "    do\n",
    "        farcompilestrings --symbols=improvement1/lex.txt --keep_symbols \\\n",
    "                          --unknown_symbol='<unk>' $bpath/trn.wt.txt $bpath/trn.far\n",
    "        ngramcount --order=$ngram $bpath/trn.far $bpath/trn.cnt\n",
    "        ngrammake --method=$smooth $bpath/trn.cnt $lmpath/$smooth.$ngram.lm\n",
    "        rm $bpath/trn.cnt\n",
    "        rm $bpath/trn.far\n",
    "    done\n",
    "done"
   ]
  },
  {
   "cell_type": "markdown",
   "metadata": {},
   "source": [
    "## Create W2T back to O"
   ]
  },
  {
   "cell_type": "code",
   "execution_count": 11,
   "metadata": {},
   "outputs": [],
   "source": [
    "def w2t_back(out):\n",
    "    special = {'<epsilon>', 'O', '<unk>'}\n",
    "    state = '0'    # wfst specification state\n",
    "    fs = \" \"       # wfst specification column separator\n",
    "    otag = 'O'\n",
    "    \n",
    "    lines = [line.strip().split(\"\\t\") for line in open('improvement1/lex.txt', 'r')]\n",
    "    #lines2 = [line.strip().split(\"\\t\") for line in open('variation1/osyms.t.txt', 'r')]\n",
    "\n",
    "    with open(out, 'w') as f:\n",
    "        for line in lines:\n",
    "            word = line[0]\n",
    "            if word.startswith(\"B-\") or word.startswith(\"I-\"):   \n",
    "                f.write(fs.join([state, state] + [word] + [word]) + \"\\n\")\n",
    "            else:\n",
    "                f.write(fs.join([state, state] + [word] + [otag]) + \"\\n\")\n",
    "        f.write(state + \"\\n\")"
   ]
  },
  {
   "cell_type": "code",
   "execution_count": 12,
   "metadata": {},
   "outputs": [],
   "source": [
    "w2t_back('improvement1/w2t_bO.txt')"
   ]
  },
  {
   "cell_type": "code",
   "execution_count": 1,
   "metadata": {},
   "outputs": [
    {
     "name": "stdout",
     "output_type": "stream",
     "text": [
      "fst type                                          vector\n",
      "arc type                                          standard\n",
      "input symbol table                                improvement1/lex.txt\n",
      "output symbol table                               improvement1/lex.txt\n",
      "# of states                                       1\n",
      "# of arcs                                         1772\n",
      "initial state                                     0\n",
      "# of final states                                 1\n"
     ]
    }
   ],
   "source": [
    "%%bash\n",
    "bpath='improvement1'\n",
    "fstcompile \\\n",
    "    --isymbols=$bpath/lex.txt \\\n",
    "    --osymbols=$bpath/lex.txt \\\n",
    "    --keep_isymbols \\\n",
    "    --keep_osymbols \\\n",
    "    $bpath/w2t_bO.txt $bpath/w2t_bO.bin\n",
    "    \n",
    "fstinfo $bpath/w2t_bO.bin | head -n 8"
   ]
  },
  {
   "cell_type": "code",
   "execution_count": 14,
   "metadata": {},
   "outputs": [
    {
     "name": "stdout",
     "output_type": "stream",
     "text": [
      "0\t1\twho\tO\t2.56040716\n",
      "1\t2\tis\tO\t2.08567691\n",
      "2\t3\tin\tO\t3.03797865\n",
      "3\t4\t<unk>\tB-movie.language\t8.24094009\n",
      "4\t0.560626388\n"
     ]
    }
   ],
   "source": [
    "%%bash\n",
    "##TEST\n",
    "wdir='improvement1/wdir'\n",
    "mkdir -p 'improvement1/wdir'\n",
    "\n",
    "cp $wdir/tst.txt-0005 sent.fsa\n",
    "\n",
    "fstcompose sent.fsa improvement1/w2t_mle.bin |\\\n",
    "fstcompose - improvement1/models/absolute.2.lm |\\\n",
    "fstcompose - improvement1/w2t_bO.bin |\\\n",
    "fstshortestpath | fstrmepsilon | fsttopsort |\\\n",
    "fstprint --isymbols=improvement1/lex.txt\n"
   ]
  },
  {
   "cell_type": "code",
   "execution_count": 15,
   "metadata": {},
   "outputs": [],
   "source": [
    "%%bash\n",
    "\n",
    "wdir='improvement1/wdir'\n",
    "farr=($(ls $wdir))\n",
    "mkdir -p 'improvement1/result'\n",
    "mkdir -p 'improvement1/scores'\n",
    "rpath='improvement1/result'\n",
    "\n",
    "for ngo in 1 2 3 4 5\n",
    "do\n",
    "    for lm in \"absolute\" \"witten_bell\" \"kneser_ney\" \"katz\" \"presmoothed\" \"unsmoothed\"\n",
    "    do\n",
    "        for f in ${farr[@]}\n",
    "        do\n",
    "            fstcompose $wdir/$f improvement1/w2t_mle.bin |\\\n",
    "            fstcompose - improvement1/models/$lm.$ngo.lm |\\\n",
    "            fstcompose - improvement1/w2t_bO.bin |\\\n",
    "            fstshortestpath | fstrmepsilon | fsttopsort |\\\n",
    "            fstprint --isymbols=improvement1/lex.txt\n",
    "        done > $rpath/pred.$lm.$ngo.txt\n",
    "    done\n",
    "done\n"
   ]
  },
  {
   "cell_type": "code",
   "execution_count": 16,
   "metadata": {},
   "outputs": [
    {
     "data": {
      "image/png": "[encoded data removed]",
      "text/plain": [
       "<Figure size 576x360 with 1 Axes>"
      ]
     },
     "metadata": {
      "needs_background": "light"
     },
     "output_type": "display_data"
    },
    {
     "name": "stdout",
     "output_type": "stream",
     "text": [
      "cutoff:  1\n",
      "           0          1          2          3          4\n",
      "0  55.595668  78.930675  81.374322  81.571816  81.337551\n",
      "1  55.595668  79.311906  81.334536  81.424707  81.264108\n",
      "2  55.595668  79.452055  82.041933  82.739726  82.428115\n",
      "3  55.595668  78.840054  80.845324  81.168539  81.078652\n",
      "4  55.595668  77.578475  79.537367  79.858030  79.467849\n",
      "5  55.595668  76.160991  78.402107  78.249337  78.210806\n"
     ]
    }
   ],
   "source": [
    "ngrams = [1,2,3,4,5]\n",
    "smoothing_methods = [\"absolute\", \"witten_bell\", \"kneser_ney\", \"katz\", \"presmoothed\", \"unsmoothed\"]\n",
    "f1scores = []\n",
    "\n",
    "with open(\"improvement1/scores/cf{}.alpha{}.txt\".format(tf_min,alpha), 'w') as f:\n",
    "    f.write(\"Cutoff: {}\\tAlpha: {}\\n\".format(tf_min,alpha))               \n",
    "    for sm in smoothing_methods:\n",
    "        sms = []    \n",
    "        f.write(\"Smoothing method: {}\\n\".format(sm))\n",
    "        for ngo in ngrams:\n",
    "\n",
    "            refs = read_corpus_conll('dataset/tst.conll')\n",
    "            hyps = read_fst4conll('improvement1/result/pred.'+sm+'.'+str(ngo)+'.txt')\n",
    "\n",
    "            results = evaluate(refs, hyps)\n",
    "\n",
    "            pd_tbl = pd.DataFrame().from_dict(results, orient='index').iloc[-1:]\n",
    "            val = pd.DataFrame().from_dict(results, orient='index').iloc[-1,pd_tbl.columns.get_loc('f')]*100\n",
    "            sms.append(val)\n",
    "            f.write(\"{}: {}\\t\".format(ngo,round(val,3)))\n",
    "\n",
    "        f1scores.append(sms)\n",
    "        f.write(\"\\n\")\n",
    "\n",
    "#------------------PLOT---------------------\n",
    "plt.figure(figsize=(8,5))\n",
    "for sm in range(len(smoothing_methods)):\n",
    "    plt.plot(ngrams,f1scores[sm], label=smoothing_methods[sm])\n",
    "plt.title(\"F1 score for different smoothing methods\")\n",
    "plt.xlabel(\"ngram order\")\n",
    "plt.ylabel(\"F1 score\")\n",
    "plt.legend(loc='best')\n",
    "plt.xticks(ngrams)\n",
    "plt.grid()\n",
    "plt.show()\n",
    "\n",
    "\n",
    "\n",
    "print(\"cutoff: \",tf_min)\n",
    "print(pd.DataFrame(f1scores))"
   ]
  },
  {
   "cell_type": "code",
   "execution_count": null,
   "metadata": {},
   "outputs": [],
   "source": []
  }
 ],
 "metadata": {
  "kernelspec": {
   "display_name": "Python 3",
   "language": "python",
   "name": "python3"
  },
  "language_info": {
   "codemirror_mode": {
    "name": "ipython",
    "version": 3
   },
   "file_extension": ".py",
   "mimetype": "text/x-python",
   "name": "python",
   "nbconvert_exporter": "python",
   "pygments_lexer": "ipython3",
   "version": "3.7.6"
  }
 },
 "nbformat": 4,
 "nbformat_minor": 4
}
