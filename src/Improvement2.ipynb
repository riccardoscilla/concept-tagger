{
 "cells": [
  {
   "cell_type": "code",
   "execution_count": 5,
   "metadata": {},
   "outputs": [],
   "source": [
    "from preprocessing import *\n",
    "import pandas as pd\n",
    "import os\n",
    "from fst4conll import *\n",
    "from conll import *\n",
    "%matplotlib inline\n",
    "import matplotlib.pyplot as plt\n",
    "import numpy as np"
   ]
  },
  {
   "cell_type": "code",
   "execution_count": 6,
   "metadata": {},
   "outputs": [],
   "source": [
    "%%bash\n",
    "dpath='NL2SparQL4NLU/dataset/NL2SparQL4NLU'\n",
    "spath='dataset'\n",
    "mkdir -p $spath\n",
    "\n",
    "cp $dpath.train.utterances.txt $spath/trn.txt\n",
    "cp $dpath.test.utterances.txt $spath/tst.txt\n",
    "\n",
    "cp $dpath.train.conll.txt $spath/trn.conll\n",
    "cp $dpath.test.conll.txt $spath/tst.conll"
   ]
  },
  {
   "cell_type": "markdown",
   "metadata": {},
   "source": [
    "## Improvement 2: Input Generalization"
   ]
  },
  {
   "cell_type": "code",
   "execution_count": 7,
   "metadata": {},
   "outputs": [],
   "source": [
    "#generate files\n",
    "if not os.path.exists('improvement2'):\n",
    "    os.makedirs('improvement2')\n",
    "tf_min=1\n",
    "#INPUT\n",
    "trn_data = read_corpus('dataset/trn.txt')\n",
    "trn_lex, out = cutoff(trn_data, tf_min)\n",
    "with open('improvement2/isyms.trn.txt', 'w') as f:\n",
    "    f.write(\"\\n\".join(trn_lex) + \"\\n\")\n",
    "    f.write(\"PER\\nLOC\\nNAT\\nNUM\\n\")\n",
    "#OUTPUT\n",
    "trn = read_corpus_conll('dataset/trn.conll')\n",
    "tags = get_column(trn, column=-1)\n",
    "\n",
    "tlex, out_t = cutoff(tags, tf_min)\n",
    "with open('improvement2/osyms.t.lst.txt', 'w') as f:\n",
    "    f.write(\"\\n\".join(tlex) + \"\\n\")"
   ]
  },
  {
   "cell_type": "code",
   "execution_count": 8,
   "metadata": {},
   "outputs": [],
   "source": [
    "#create trn.wt.txt\n",
    "with open('dataset/trn.conll') as f:\n",
    "    content = f.read().strip('\\n').split('\\n\\n')\n",
    "with open('improvement2/trn.wt.txt', 'w') as f:\n",
    "    for sentence in content:\n",
    "        list_wt = [(x.split('\\t')[0], x.split('\\t')[1]) for x in sentence.split('\\n')]\n",
    "        list_t = []\n",
    "        for i in range(len(list_wt)):\n",
    "            tag = list_wt[i][1]\n",
    "            if tag == 'O':\n",
    "                tag = list_wt[i][0]\n",
    "            list_t.append(tag)\n",
    "        f.write(' '.join(list_t) +  '\\n')"
   ]
  },
  {
   "cell_type": "code",
   "execution_count": 9,
   "metadata": {},
   "outputs": [],
   "source": [
    "%%bash\n",
    "#make input/output lexicons\n",
    "bpath='improvement2'\n",
    "ngramsymbols $bpath/isyms.trn.txt   $bpath/isyms.txt\n",
    "ngramsymbols $bpath/osyms.t.lst.txt $bpath/osyms.t.txt\n",
    "\n",
    "rm $bpath/isyms.trn.txt\n",
    "rm $bpath/osyms.t.lst.txt"
   ]
  },
  {
   "cell_type": "markdown",
   "metadata": {},
   "source": [
    "## Create Lexicon"
   ]
  },
  {
   "cell_type": "code",
   "execution_count": 10,
   "metadata": {},
   "outputs": [],
   "source": [
    "%%bash \n",
    "#use lexicons with both cutoff\n",
    "bpath='improvement2'\n",
    "cat $bpath/isyms.txt $bpath/osyms.t.txt | cut -f 1 | sort | uniq > $bpath/lex.lst.txt\n",
    "ngramsymbols $bpath/lex.lst.txt $bpath/lex.txt\n",
    "rm $bpath/lex.lst.txt"
   ]
  },
  {
   "cell_type": "markdown",
   "metadata": {},
   "source": [
    "## Extract test sentences"
   ]
  },
  {
   "cell_type": "code",
   "execution_count": 7,
   "metadata": {},
   "outputs": [],
   "source": [
    "%%bash\n",
    "farcompilestrings \\\n",
    "    --symbols=improvement2/lex.txt \\\n",
    "    --keep_symbols \\\n",
    "    --unknown_symbol='<unk>' \\\n",
    "    dataset/tst.txt tst.far\n",
    "\n",
    "wdir='improvement2/wdir'\n",
    "mkdir -p 'improvement2/wdir'\n",
    "farextract --filename_prefix=\"$wdir/\" tst.far\n",
    "\n",
    "rm tst.far"
   ]
  },
  {
   "cell_type": "markdown",
   "metadata": {},
   "source": [
    "## Create generalization transducer w2wg "
   ]
  },
  {
   "cell_type": "code",
   "execution_count": 8,
   "metadata": {
    "scrolled": true
   },
   "outputs": [],
   "source": [
    "PER = [\"actor.name\", \"character.name\", \"director.name\", \"person.name\", \"producer.name\"]\n",
    "LOC = [\"country.name\", \"movie.location\"]\n",
    "NAT = [\"actor.nationality\", \"director.nationality\", \"person.nationality\"]\n",
    "NUM = [\"movie.gross_revenue\", \"movie.star_rating\"]\n",
    "\n",
    "list_wg = []\n",
    "list_wg_t = [] # for the mle w2t, next paragraph\n",
    "\n",
    "with open('dataset/trn.conll') as f:\n",
    "    content = f.read().strip('\\n').split('\\n\\n')\n",
    "\n",
    "for sentence in content:\n",
    "    list_wt = [(x.split('\\t')[0], x.split('\\t')[1]) for x in sentence.split('\\n')]\n",
    "    \n",
    "    #replace OOV words,tags with <unk>\n",
    "    for i in range(len(list_wt)):\n",
    "        if list_wt[i][0] in out:\n",
    "            list_wt[i] = ('<unk>', list_wt[i][1])\n",
    "        if list_wt[i][1] in out_t:\n",
    "            list_wt[i] = (list_wt[i][0],'<unk>')\n",
    "\n",
    "    for i in range(len(list_wt)):\n",
    "        word = list_wt[i][0]\n",
    "        tag = list_wt[i][1]\n",
    "        concept = tag\n",
    "        if tag.startswith(\"B-\") or tag.startswith(\"I-\"):\n",
    "            concept = tag[2:]\n",
    "        if tf_min < 2:\n",
    "            list_wg.append(('<unk>',word))\n",
    "        \n",
    "        # write the generalization\n",
    "        if concept in PER:\n",
    "            list_wg.append((word,'PER'))\n",
    "            list_wg_t.append(('PER',tag))\n",
    "        elif concept in LOC:\n",
    "            list_wg.append((word,'LOC'))\n",
    "            list_wg_t.append(('LOC',tag))\n",
    "        elif concept in NAT:\n",
    "            list_wg.append((word,'NAT'))\n",
    "            list_wg_t.append(('NAT',tag))\n",
    "        elif concept in NUM:\n",
    "            list_wg.append((word,'NUM'))\n",
    "            list_wg_t.append(('NUM',tag))\n",
    "        else:        \n",
    "            list_wg.append((word,word))\n",
    "            if tag == 'O':\n",
    "                list_wg_t.append((word,word))\n",
    "            else:\n",
    "                list_wg_t.append((word,tag))\n",
    "               \n",
    " #to have unique rules for each w2g or w2w\n",
    "list_wg = list(set(list_wg))\n",
    "\n",
    "#write in file\n",
    "with open('improvement2/w2wg.txt', 'w') as f:\n",
    "    for i in range(len(list_wg)):\n",
    "        f.write('0 0 {} {}\\n'.format(list_wg[i][0],list_wg[i][1]))\n",
    "    if tf_min < 2:\n",
    "        f.write('0 0 {} {}\\n'.format('<unk>','PER'))\n",
    "        f.write('0 0 {} {}\\n'.format('<unk>','LOC'))\n",
    "        f.write('0 0 {} {}\\n'.format('<unk>','NUM'))\n",
    "    f.write('0')"
   ]
  },
  {
   "cell_type": "code",
   "execution_count": 4,
   "metadata": {},
   "outputs": [
    {
     "name": "stdout",
     "output_type": "stream",
     "text": [
      "fst type                                          vector\n",
      "arc type                                          standard\n",
      "input symbol table                                improvement2/lex.txt\n",
      "output symbol table                               improvement2/lex.txt\n",
      "# of states                                       1\n",
      "# of arcs                                         21453\n",
      "initial state                                     0\n",
      "# of final states                                 1\n"
     ]
    }
   ],
   "source": [
    "%%bash\n",
    "bpath='improvement2'\n",
    "fstcompile \\\n",
    "    --isymbols=$bpath/lex.txt \\\n",
    "    --osymbols=$bpath/lex.txt \\\n",
    "    --keep_isymbols \\\n",
    "    --keep_osymbols \\\n",
    "    $bpath/w2wg.txt | fstarcsort - > $bpath/w2wg.bin\n",
    "    \n",
    "fstinfo $bpath/w2wg.bin | head -n 8"
   ]
  },
  {
   "cell_type": "markdown",
   "metadata": {},
   "source": [
    "## Create MLE transducer wg2t_mle"
   ]
  },
  {
   "cell_type": "code",
   "execution_count": 10,
   "metadata": {},
   "outputs": [],
   "source": [
    "from collections import defaultdict\n",
    "import math\n",
    "\n",
    "if tf_min < 2:\n",
    "    \n",
    "    with open('improvement2/wg2t_mle.txt', 'w') as f:\n",
    "        t_count = defaultdict(int)\n",
    "        wt_count = defaultdict(int)\n",
    "        p_wt = defaultdict(float)\n",
    "        \n",
    "        # count c(w,t) and c(t)\n",
    "        for t in list_wg_t:\n",
    "            t_count[t[1]] += 1\n",
    "            wt = \"{} {}\".format(t[0], t[1])\n",
    "            wt_count[wt] += 1\n",
    "\n",
    "        # compute prob p(w|t)\n",
    "        V = len(t_count)\n",
    "        alpha = 1\n",
    "        for wt in wt_count:\n",
    "            _,tag = wt.split()\n",
    "            p_wt[wt] =  - math.log( (wt_count[wt]+alpha) / (t_count[tag]+(alpha*V)) )\n",
    "        for tag in t_count:\n",
    "            p_wt[\"<unk> {}\".format(tag)] = - math.log(1 / V)\n",
    "        \n",
    "        # write in file\n",
    "        for wt in p_wt:\n",
    "            w,t = wt.split()\n",
    "            f.write(\"0 0 {} {} {}\\n\".format(w, t, p_wt[wt]))\n",
    "        f.write('0')\n",
    "\n",
    "if tf_min > 1:\n",
    "\n",
    "    with open('improvement2/wg2t_mle.txt', 'w') as f:\n",
    "        t_count = defaultdict(int)\n",
    "        wt_count = defaultdict(int)\n",
    "        p_wt = defaultdict(float)\n",
    "        \n",
    "        # count c(w,t) and c(t)\n",
    "        for t in list_wg_t:\n",
    "            t_count[t[1]] += 1\n",
    "            wt = \"{} {}\".format(t[0], t[1])\n",
    "            wt_count[wt] += 1\n",
    "\n",
    "        # compute prob p(w|t) with add-alpha smoothing   \n",
    "        V = len(t_count)\n",
    "        alpha = 1\n",
    "        for wt in wt_count:\n",
    "            word,tag = wt.split()\n",
    "            if word == '<unk>':\n",
    "                p_wt[wt] = - math.log(1 / V)\n",
    "            else:\n",
    "                p_wt[wt] =  - math.log( (wt_count[wt]+alpha) / (t_count[tag]+(alpha*V)) )\n",
    "                \n",
    "        #write in file\n",
    "        for wt in p_wt:\n",
    "            w,t = wt.split()\n",
    "            f.write(\"0 0 {} {} {}\\n\".format(w, t, p_wt[wt]))\n",
    "        f.write('0')"
   ]
  },
  {
   "cell_type": "code",
   "execution_count": 1,
   "metadata": {},
   "outputs": [
    {
     "name": "stdout",
     "output_type": "stream",
     "text": [
      "fst type                                          vector\n",
      "arc type                                          standard\n",
      "input symbol table                                improvement2/lex.txt\n",
      "output symbol table                               improvement2/lex.txt\n",
      "# of states                                       1\n",
      "# of arcs                                         1071\n",
      "initial state                                     0\n",
      "# of final states                                 1\n"
     ]
    }
   ],
   "source": [
    "%%bash\n",
    "bpath='improvement2'\n",
    "fstcompile \\\n",
    "    --isymbols=$bpath/lex.txt \\\n",
    "    --osymbols=$bpath/lex.txt \\\n",
    "    --keep_isymbols \\\n",
    "    --keep_osymbols \\\n",
    "    $bpath/wg2t_mle.txt | fstarcsort - > $bpath/wg2t_mle.bin\n",
    "    \n",
    "fstinfo $bpath/wg2t_mle.bin | head -n 8"
   ]
  },
  {
   "cell_type": "markdown",
   "metadata": {},
   "source": [
    "## Create language models"
   ]
  },
  {
   "cell_type": "code",
   "execution_count": 14,
   "metadata": {},
   "outputs": [],
   "source": [
    "%%bash\n",
    "#CREATE LANGUAGE MODELS\n",
    "mkdir -p 'improvement2/models'\n",
    "lmpath='improvement2/models'\n",
    "bpath='improvement2'\n",
    "for ngram in 1 2 3 4 5\n",
    "do\n",
    "    for smooth in \"absolute\" \"witten_bell\" \"kneser_ney\" \"katz\" \"presmoothed\" \"unsmoothed\"\n",
    "    do\n",
    "        farcompilestrings --symbols=$bpath/lex.txt --keep_symbols \\\n",
    "                          --unknown_symbol='<unk>' $bpath/trn.wt.txt $bpath/trn.far\n",
    "        ngramcount --order=$ngram $bpath/trn.far $bpath/trn.cnt\n",
    "        ngrammake --method=$smooth $bpath/trn.cnt $lmpath/$smooth.$ngram.lm\n",
    "        rm $bpath/trn.cnt\n",
    "        rm $bpath/trn.far\n",
    "    done\n",
    "done"
   ]
  },
  {
   "cell_type": "markdown",
   "metadata": {},
   "source": [
    "## Create W2T back to O"
   ]
  },
  {
   "cell_type": "code",
   "execution_count": 13,
   "metadata": {},
   "outputs": [],
   "source": [
    "def w2t_back(out):\n",
    "    state = '0'    # wfst specification state\n",
    "    fs = \" \"       # wfst specification column separator\n",
    "    otag = 'O'\n",
    "    \n",
    "    lines = [line.strip().split(\"\\t\") for line in open('improvement2/lex.txt', 'r')]\n",
    "    #lines2 = [line.strip().split(\"\\t\") for line in open('variation1/osyms.t.txt', 'r')]\n",
    "\n",
    "    with open(out, 'w') as f:\n",
    "        for line in lines:\n",
    "            word = line[0]\n",
    "            if word.startswith(\"B-\") or word.startswith(\"I-\"):   \n",
    "                f.write(fs.join([state, state] + [word] + [word]) + \"\\n\")\n",
    "            else:\n",
    "                f.write(fs.join([state, state] + [word] + [otag]) + \"\\n\")\n",
    "        f.write(state + \"\\n\")"
   ]
  },
  {
   "cell_type": "code",
   "execution_count": 14,
   "metadata": {},
   "outputs": [],
   "source": [
    "w2t_back('improvement2/w2t_bO.txt')"
   ]
  },
  {
   "cell_type": "code",
   "execution_count": 3,
   "metadata": {},
   "outputs": [
    {
     "name": "stdout",
     "output_type": "stream",
     "text": [
      "fst type                                          vector\n",
      "arc type                                          standard\n",
      "input symbol table                                improvement2/lex.txt\n",
      "output symbol table                               improvement2/lex.txt\n",
      "# of states                                       1\n",
      "# of arcs                                         993\n",
      "initial state                                     0\n",
      "# of final states                                 1\n"
     ]
    }
   ],
   "source": [
    "%%bash\n",
    "bpath='improvement2'\n",
    "fstcompile \\\n",
    "    --isymbols=$bpath/lex.txt \\\n",
    "    --osymbols=$bpath/lex.txt \\\n",
    "    --keep_isymbols \\\n",
    "    --keep_osymbols \\\n",
    "    $bpath/w2t_bO.txt | fstarcsort - > $bpath/w2t_bO.bin\n",
    "    \n",
    "fstinfo $bpath/w2t_bO.bin | head -n 8"
   ]
  },
  {
   "cell_type": "markdown",
   "metadata": {},
   "source": [
    "## Test on one sentence"
   ]
  },
  {
   "cell_type": "code",
   "execution_count": 16,
   "metadata": {},
   "outputs": [
    {
     "name": "stdout",
     "output_type": "stream",
     "text": [
      "0\t1\tbudget\tbudget\n",
      "1\t2\tfor\tfor\n",
      "2\t3\tiron\tiron\n",
      "3\t4\tman\tman\n",
      "4\t5\t2\t2\n",
      "5\n",
      "0\t1\tbudget\tO\t7.47277784\n",
      "1\t2\tfor\tO\t1.23992014\n",
      "2\t3\tiron\tB-movie.name\t6.24051619\n",
      "3\t4\tman\tI-movie.name\t5.31441116\n",
      "4\t5\t2\tI-movie.name\t6.23862743\n",
      "5\t0.936108589\n"
     ]
    }
   ],
   "source": [
    "%%bash\n",
    "##TEST\n",
    "wdir='improvement2/wdir'\n",
    "\n",
    "cp $wdir/tst.txt-0042 sent.fsa\n",
    "\n",
    "fstprint --isymbols=improvement2/lex.txt --osymbols=improvement2/lex.txt sent.fsa\n",
    "\n",
    "fstcompose sent.fsa improvement2/w2wg.bin |\\\n",
    "fstcompose - improvement2/wg2t_mle.bin |\\\n",
    "fstcompose - improvement2/models/absolute.2.lm |\\\n",
    "fstcompose - improvement2/w2t_bO.bin |\\\n",
    "fstshortestpath | fstrmepsilon | fsttopsort |\\\n",
    "fstprint --isymbols=improvement2/lex.txt"
   ]
  },
  {
   "cell_type": "markdown",
   "metadata": {},
   "source": [
    "## Loop on test set"
   ]
  },
  {
   "cell_type": "code",
   "execution_count": 17,
   "metadata": {},
   "outputs": [],
   "source": [
    "%%bash\n",
    "wdir='improvement2/wdir'\n",
    "farr=($(ls $wdir))\n",
    "mkdir -p 'improvement2/result'\n",
    "mkdir -p 'improvement2/scores'\n",
    "rpath='improvement2/result'\n",
    "\n",
    "for ngo in 2 3 4 5\n",
    "do\n",
    "    for lm in \"absolute\" \"witten_bell\" \"kneser_ney\" \"katz\" \"presmoothed\" \"unsmoothed\"\n",
    "    do\n",
    "        for f in ${farr[@]}\n",
    "        do\n",
    "            fstcompose $wdir/$f improvement2/w2wg.bin |\\\n",
    "            fstcompose - improvement2/wg2t_mle.bin |\\\n",
    "            fstcompose - improvement2/models/$lm.$ngo.lm |\\\n",
    "            fstcompose - improvement2/w2t_bO.bin |\\\n",
    "            fstshortestpath | fstrmepsilon | fsttopsort |\\\n",
    "            fstprint --isymbols=improvement2/lex.txt\n",
    "        done > $rpath/pred.$lm.$ngo.txt\n",
    "    done\n",
    "done"
   ]
  },
  {
   "cell_type": "markdown",
   "metadata": {},
   "source": [
    "## Evaluation"
   ]
  },
  {
   "cell_type": "code",
   "execution_count": 18,
   "metadata": {},
   "outputs": [
    {
     "data": {
      "image/png": "[encoded data removed]",
      "text/plain": [
       "<Figure size 576x360 with 1 Axes>"
      ]
     },
     "metadata": {
      "needs_background": "light"
     },
     "output_type": "display_data"
    },
    {
     "name": "stdout",
     "output_type": "stream",
     "text": [
      "cutoff:  2\n",
      "           0          1          2          3\n",
      "0  63.753641  70.033956  70.063694  70.293243\n",
      "1  63.254266  69.282700  69.517358  70.573248\n",
      "2  64.730640  69.263336  69.749682  70.263381\n",
      "3  63.753641  68.478261  69.408309  68.991597\n",
      "4  64.252632  67.812238  67.781028  67.973311\n",
      "5  64.540495  70.775681  70.741990  70.390592\n"
     ]
    }
   ],
   "source": [
    "ngrams = [2,3,4,5]\n",
    "smoothing_methods = [\"absolute\",\"witten_bell\" ,\"kneser_ney\" ,\"katz\", \"presmoothed\" ,\"unsmoothed\"]\n",
    "f1scores = []\n",
    "\n",
    "with open(\"improvement2/scores/cf{}.alpha{}.txt\".format(tf_min,alpha), 'w') as f:\n",
    "    f.write(\"Cutoff: {}\\tAlpha: {}\\n\".format(tf_min,alpha))               \n",
    "    for sm in smoothing_methods:\n",
    "        sms = []    \n",
    "        f.write(\"Smoothing method: {}\\n\".format(sm))\n",
    "        for ngo in ngrams:\n",
    "\n",
    "            refs = read_corpus_conll('dataset/tst.conll')\n",
    "            hyps = read_fst4conll('improvement2/result/pred.'+sm+'.'+str(ngo)+'.txt')\n",
    "\n",
    "            results = evaluate(refs, hyps)\n",
    "\n",
    "            pd_tbl = pd.DataFrame().from_dict(results, orient='index').iloc[-1:]\n",
    "            val = pd.DataFrame().from_dict(results, orient='index').iloc[-1,pd_tbl.columns.get_loc('f')]*100\n",
    "            sms.append(val)\n",
    "            f.write(\"{}: {}\\t\".format(ngo,round(val,3)))\n",
    "\n",
    "        f1scores.append(sms)\n",
    "        f.write(\"\\n\")\n",
    "\n",
    "#------------------PLOT---------------------\n",
    "plt.figure(figsize=(8,5))\n",
    "for sm in range(len(smoothing_methods)):\n",
    "    plt.plot(ngrams,f1scores[sm], label=smoothing_methods[sm])\n",
    "plt.title(\"F1 score for different smoothing methods\")\n",
    "plt.xlabel(\"ngram order\")\n",
    "plt.ylabel(\"F1 score\")\n",
    "plt.legend(loc='best')\n",
    "plt.xticks(ngrams)\n",
    "plt.grid()\n",
    "plt.show()\n",
    "\n",
    "\n",
    "\n",
    "print(\"cutoff: \",tf_min)\n",
    "print(pd.DataFrame(f1scores))"
   ]
  },
  {
   "cell_type": "code",
   "execution_count": null,
   "metadata": {},
   "outputs": [],
   "source": []
  }
 ],
 "metadata": {
  "kernelspec": {
   "display_name": "Python 3",
   "language": "python",
   "name": "python3"
  },
  "language_info": {
   "codemirror_mode": {
    "name": "ipython",
    "version": 3
   },
   "file_extension": ".py",
   "mimetype": "text/x-python",
   "name": "python",
   "nbconvert_exporter": "python",
   "pygments_lexer": "ipython3",
   "version": "3.7.6"
  }
 },
 "nbformat": 4,
 "nbformat_minor": 4
}
