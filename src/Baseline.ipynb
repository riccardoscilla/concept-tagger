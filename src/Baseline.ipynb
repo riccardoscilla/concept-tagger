{
 "cells": [
  {
   "cell_type": "code",
   "execution_count": 7,
   "metadata": {},
   "outputs": [],
   "source": [
    "from preprocessing import *\n",
    "import pandas as pd\n",
    "import os\n",
    "from fst4conll import *\n",
    "from conll import *\n",
    "%matplotlib inline\n",
    "import matplotlib.pyplot as plt\n",
    "import numpy as np"
   ]
  },
  {
   "cell_type": "code",
   "execution_count": 8,
   "metadata": {},
   "outputs": [],
   "source": [
    "%%bash\n",
    "dpath='NL2SparQL4NLU/dataset/NL2SparQL4NLU'\n",
    "spath='dataset'\n",
    "mkdir -p 'dataset'\n",
    "\n",
    "cp $dpath.train.utterances.txt $spath/trn.txt\n",
    "cp $dpath.test.utterances.txt $spath/tst.txt\n",
    "\n",
    "cp $dpath.train.conll.txt $spath/trn.conll\n",
    "cp $dpath.test.conll.txt $spath/tst.conll"
   ]
  },
  {
   "cell_type": "markdown",
   "metadata": {},
   "source": [
    "## Baseline MLE"
   ]
  },
  {
   "cell_type": "code",
   "execution_count": 9,
   "metadata": {},
   "outputs": [],
   "source": [
    "#generate files\n",
    "if not os.path.exists('baseline'):\n",
    "    os.makedirs('baseline')\n",
    "tf_min=1\n",
    "#INPUT\n",
    "trn_data = read_corpus('dataset/trn.txt')\n",
    "trn_lex, out = cutoff(trn_data, tf_min)\n",
    "\n",
    "with open('baseline/isyms.trn.txt', 'w') as f:\n",
    "    f.write(\"\\n\".join(trn_lex) + \"\\n\")\n",
    "\n",
    "#OUTPUT / LM\n",
    "trn = read_corpus_conll('dataset/trn.conll')\n",
    "tags = get_column(trn, column=-1)\n",
    "\n",
    "with open('baseline/trn.t.txt', 'w') as f:\n",
    "    for s in tags:\n",
    "        f.write(\" \".join(s) + \"\\n\")\n",
    "        \n",
    "tlex, out_t = cutoff(tags, tf_min)\n",
    "\n",
    "with open('baseline/osyms.t.lst.txt', 'w') as f:\n",
    "    f.write(\"\\n\".join(tlex) + \"\\n\")"
   ]
  },
  {
   "cell_type": "code",
   "execution_count": 10,
   "metadata": {},
   "outputs": [],
   "source": [
    "%%bash\n",
    "#make input/output lexicons\n",
    "bpath='baseline'\n",
    "ngramsymbols $bpath/isyms.trn.txt   $bpath/isyms.txt\n",
    "ngramsymbols $bpath/osyms.t.lst.txt $bpath/osyms.t.txt\n",
    "\n",
    "rm $bpath/isyms.trn.txt\n",
    "rm $bpath/osyms.t.lst.txt"
   ]
  },
  {
   "cell_type": "markdown",
   "metadata": {},
   "source": [
    "## Create Lexicon"
   ]
  },
  {
   "cell_type": "code",
   "execution_count": 11,
   "metadata": {},
   "outputs": [],
   "source": [
    "%%bash \n",
    "#use lexicons with both cutoff\n",
    "bpath='baseline'\n",
    "cat $bpath/isyms.txt $bpath/osyms.t.txt | cut -f 1 | sort | uniq > $bpath/lex.lst.txt\n",
    "ngramsymbols $bpath/lex.lst.txt $bpath/lex.txt"
   ]
  },
  {
   "cell_type": "markdown",
   "metadata": {},
   "source": [
    "## Extract test sentences"
   ]
  },
  {
   "cell_type": "code",
   "execution_count": 11,
   "metadata": {},
   "outputs": [],
   "source": [
    "%%bash\n",
    "farcompilestrings \\\n",
    "    --symbols=baseline/lex.txt \\\n",
    "    --keep_symbols \\\n",
    "    --unknown_symbol='<unk>' \\\n",
    "    dataset/tst.txt tst.far\n",
    "wdir='baseline/wdir'\n",
    "mkdir -p 'baseline/wdir'\n",
    "farextract --filename_prefix=\"$wdir/\" tst.far"
   ]
  },
  {
   "cell_type": "markdown",
   "metadata": {},
   "source": [
    "## Create MLE transducer w2t_mle"
   ]
  },
  {
   "cell_type": "code",
   "execution_count": 12,
   "metadata": {
    "scrolled": true
   },
   "outputs": [],
   "source": [
    "from collections import defaultdict\n",
    "import math\n",
    "\n",
    "# ---------------- if no cutoff ---------------------\n",
    "if tf_min < 2:\n",
    "    training_data = []\n",
    "    with open('dataset/trn.conll') as f:\n",
    "        content = f.read().strip('\\n').split('\\n\\n')\n",
    "        \n",
    "    for sentence in content:\n",
    "        list_wt = [(x.split('\\t')[0], x.split('\\t')[1]) for x in sentence.split('\\n')]\n",
    "        training_data += list_wt\n",
    "     \n",
    "    with open('baseline/w2t_mle.txt', 'w') as f:\n",
    "        t_count = defaultdict(int)\n",
    "        wt_count = defaultdict(int)\n",
    "        p_wt = defaultdict(float)\n",
    "        # count c(w,t) and c(t)\n",
    "        for t in training_data:\n",
    "            t_count[t[1]] += 1\n",
    "            wt = \"{} {}\".format(t[0], t[1])\n",
    "            wt_count[wt] += 1\n",
    "               \n",
    "        # compute prob p(w|t) with add-alpha smoothing    \n",
    "        V = len(t_count)\n",
    "        alpha = 0\n",
    "        for wt in wt_count:\n",
    "            word,tag = wt.split()\n",
    "            p_wt[wt] =  - math.log( (alpha+wt_count[wt]) / ((alpha*V)+t_count[tag]) )\n",
    "        for tag in t_count:\n",
    "            p_wt[\"<unk> {}\".format(tag)] = - math.log( 1 / V )\n",
    "        \n",
    "        for wt in p_wt:\n",
    "            w,t = wt.split()\n",
    "            f.write(\"0 0 {} {} {}\\n\".format(w, t, p_wt[wt]))\n",
    "        f.write('0')\n",
    "\n",
    "# ---------------------- if cutoff --------------------------\n",
    "if tf_min > 1:\n",
    "    training_data = []\n",
    "    with open('dataset/trn.conll') as f:\n",
    "        content = f.read().strip('\\n').split('\\n\\n')\n",
    "\n",
    "    for sentence in content:\n",
    "        list_wt = [(x.split('\\t')[0], x.split('\\t')[1]) for x in sentence.split('\\n')]\n",
    "        training_data += list_wt\n",
    "    \n",
    "    #replace OOV words and tags with <unk>\n",
    "    for i in range(len(training_data)):\n",
    "        if training_data[i][0] in out:\n",
    "            training_data[i] = ('<unk>', training_data[i][1])\n",
    "        if training_data[i][1] in out_t:\n",
    "            training_data[i] = (training_data[i][0],'<unk>')\n",
    "    training_data = sorted(training_data,key = lambda x: x[1])\n",
    "    \n",
    "    with open('baseline/w2t_mle.txt', 'w') as f:\n",
    "        t_count = defaultdict(int)\n",
    "        wt_count = defaultdict(int)\n",
    "        p_wt = defaultdict(float)\n",
    "    \n",
    "        # count c(w,t) and c(t)\n",
    "        for t in training_data:\n",
    "            t_count[t[1]] += 1\n",
    "            wt = \"{} {}\".format(t[0], t[1])\n",
    "            wt_count[wt] += 1\n",
    "            \n",
    "        # compute prob p(w|t) with add-alpha smoothing  \n",
    "        V = len(t_count)\n",
    "        alpha = 0\n",
    "        for wt in wt_count:\n",
    "            word,tag = wt.split()\n",
    "            if word == '<unk>':\n",
    "                p_wt[wt] = - math.log( 1 / V )\n",
    "            else:\n",
    "                p_wt[wt] =  - math.log( (alpha+wt_count[wt]) / ((alpha*V)+t_count[tag]) )\n",
    "                       \n",
    "        for wt in p_wt:\n",
    "            w,t = wt.split()\n",
    "            f.write(\"0 0 {} {} {}\\n\".format(w, t, p_wt[wt]))\n",
    "        f.write('0')"
   ]
  },
  {
   "cell_type": "code",
   "execution_count": 2,
   "metadata": {},
   "outputs": [
    {
     "name": "stdout",
     "output_type": "stream",
     "text": [
      "fst type                                          vector\n",
      "arc type                                          standard\n",
      "input symbol table                                baseline/lex.txt\n",
      "output symbol table                               baseline/lex.txt\n",
      "# of states                                       1\n",
      "# of arcs                                         2300\n",
      "initial state                                     0\n",
      "# of final states                                 1\n"
     ]
    }
   ],
   "source": [
    "%%bash\n",
    "bpath='baseline'\n",
    "fstcompile \\\n",
    "    --isymbols=$bpath/lex.txt \\\n",
    "    --osymbols=$bpath/lex.txt \\\n",
    "    --keep_isymbols \\\n",
    "    --keep_osymbols \\\n",
    "    $bpath/w2t_mle.txt | fstarcsort - > $bpath/w2t_mle.bin\n",
    "    \n",
    "fstinfo $bpath/w2t_mle.bin | head -n 8"
   ]
  },
  {
   "cell_type": "markdown",
   "metadata": {},
   "source": [
    "## Create Language Models"
   ]
  },
  {
   "cell_type": "code",
   "execution_count": 12,
   "metadata": {
    "scrolled": false
   },
   "outputs": [],
   "source": [
    "%%bash\n",
    "#CREATE LANGUAGE MODELS\n",
    "mkdir -p 'baseline/models'\n",
    "lmpath='baseline/models'\n",
    "for ngram in 1 2 3 4 5\n",
    "do\n",
    "    for smooth in \"absolute\" \"witten_bell\" \"kneser_ney\" \"katz\" \"presmoothed\" \"unsmoothed\"\n",
    "    do\n",
    "        farcompilestrings --symbols=baseline/lex.txt --keep_symbols --unknown_symbol='<unk>' baseline/trn.t.txt trn.far\n",
    "        ngramcount --order=$ngram trn.far trn.cnt\n",
    "        ngrammake --method=$smooth trn.cnt $lmpath/$smooth.$ngram.lm\n",
    "        rm trn.cnt\n",
    "        rm trn.far\n",
    "    done\n",
    "done"
   ]
  },
  {
   "cell_type": "markdown",
   "metadata": {},
   "source": [
    "## Test on one sentence"
   ]
  },
  {
   "cell_type": "code",
   "execution_count": 15,
   "metadata": {},
   "outputs": [
    {
     "name": "stdout",
     "output_type": "stream",
     "text": [
      "0\t1\twho\tO\t3.99640918\n",
      "1\t2\tis\tO\t4.06087399\n",
      "2\t3\tin\tB-movie.name\t5.52492952\n",
      "3\t4\t<unk>\tI-movie.name\t4.08222342\n",
      "4\t0.858041286\n"
     ]
    }
   ],
   "source": [
    "%%bash\n",
    "## TEST\n",
    "wdir='baseline/wdir'\n",
    "cp $wdir/tst.txt-0005 sent.fsa\n",
    "fstcompose sent.fsa baseline/w2t_mle.bin |\\\n",
    "fstcompose - baseline/models/unsmoothed.3.lm |\\\n",
    "fstshortestpath | fstrmepsilon | fsttopsort |\\\n",
    "fstprint --isymbols=baseline/lex.txt"
   ]
  },
  {
   "cell_type": "markdown",
   "metadata": {},
   "source": [
    " ## Loop on test set"
   ]
  },
  {
   "cell_type": "code",
   "execution_count": 11,
   "metadata": {},
   "outputs": [],
   "source": [
    "%%bash\n",
    "wdir='baseline/wdir'\n",
    "farr=($(ls $wdir))\n",
    "mkdir -p 'baseline/result'\n",
    "mkdir -p 'baseline/scores'\n",
    "rpath='baseline/result'\n",
    "\n",
    "for ngo in 1 2 3 4 5\n",
    "do\n",
    "    for lm in \"absolute\" \"witten_bell\" \"kneser_ney\" \"katz\" \"presmoothed\" \"unsmoothed\"\n",
    "    do\n",
    "        for f in ${farr[@]}\n",
    "        do\n",
    "            fstcompose $wdir/$f baseline/w2t_mle.bin | fstcompose - baseline/models/$lm.$ngo.lm |\\\n",
    "                fstshortestpath | fstrmepsilon | fsttopsort |\\\n",
    "                fstprint --isymbols=baseline/lex.txt --osymbols=baseline/lex.txt\n",
    "        done > $rpath/pred.$lm.$ngo.txt\n",
    "    done\n",
    "done"
   ]
  },
  {
   "cell_type": "markdown",
   "metadata": {},
   "source": [
    "## Evaluation"
   ]
  },
  {
   "cell_type": "code",
   "execution_count": 25,
   "metadata": {},
   "outputs": [
    {
     "data": {
      "image/png": "[encoded data removed]",
      "text/plain": [
       "<Figure size 576x360 with 1 Axes>"
      ]
     },
     "metadata": {
      "needs_background": "light"
     },
     "output_type": "display_data"
    },
    {
     "name": "stdout",
     "output_type": "stream",
     "text": [
      "cutoff:  1\n",
      "           0          1          2          3          4\n",
      "0  56.219129  73.927711  72.933396  73.714016  73.941675\n",
      "1  56.219129  73.927711  72.804533  73.679245  74.060150\n",
      "2  56.219129  73.831325  72.744450  73.728814  73.931423\n",
      "3  56.219129  73.770492  69.573371  68.889904  59.627832\n",
      "4  56.219129  73.831325  62.869379  64.389411  62.738448\n",
      "5  56.219129  73.770492  72.744450  73.440454  73.828680\n"
     ]
    }
   ],
   "source": [
    "ngrams = [1,2,3,4,5]\n",
    "smoothing_methods = [\"absolute\", \"witten_bell\", \"kneser_ney\", \"katz\", \"presmoothed\", \"unsmoothed\"]\n",
    "f1scores = []\n",
    "\n",
    "with open(\"baseline/scores/cf{}.alpha{}.txt\".format(tf_min,alpha), 'w') as f:\n",
    "    f.write(\"Cutoff: {}\\tAlpha: {}\\n\".format(tf_min,alpha))               \n",
    "    for sm in smoothing_methods:\n",
    "        sms = []    \n",
    "        f.write(\"Smoothing method: {}\\n\".format(sm))\n",
    "        for ngo in ngrams:\n",
    "\n",
    "            refs = read_corpus_conll('dataset/tst.conll')\n",
    "            hyps = read_fst4conll('baseline/result/pred.'+sm+'.'+str(ngo)+'.txt')\n",
    "\n",
    "            results = evaluate(refs, hyps)\n",
    "\n",
    "            pd_tbl = pd.DataFrame().from_dict(results, orient='index').iloc[-1:]\n",
    "            val = pd.DataFrame().from_dict(results, orient='index').iloc[-1,pd_tbl.columns.get_loc('f')]*100\n",
    "            sms.append(val)\n",
    "            f.write(\"{}: {}\\t\".format(ngo,round(val,3)))\n",
    "\n",
    "        f1scores.append(sms)\n",
    "        f.write(\"\\n\")\n",
    "\n",
    "#------------------PLOT---------------------\n",
    "plt.figure(figsize=(8,5))\n",
    "for sm in range(len(smoothing_methods)):\n",
    "    plt.plot(ngrams,f1scores[sm], label=smoothing_methods[sm])\n",
    "plt.title(\"F1 score for different smoothing methods\")\n",
    "plt.xlabel(\"ngram order\")\n",
    "plt.ylabel(\"F1 score\")\n",
    "plt.legend(loc='best')\n",
    "plt.xticks(ngrams)\n",
    "plt.grid()\n",
    "plt.show()\n",
    "\n",
    "\n",
    "\n",
    "print(\"cutoff: \",tf_min)\n",
    "print(pd.DataFrame(f1scores))"
   ]
  },
  {
   "cell_type": "code",
   "execution_count": null,
   "metadata": {},
   "outputs": [],
   "source": []
  },
  {
   "cell_type": "code",
   "execution_count": null,
   "metadata": {},
   "outputs": [],
   "source": []
  }
 ],
 "metadata": {
  "kernelspec": {
   "display_name": "Python 3",
   "language": "python",
   "name": "python3"
  },
  "language_info": {
   "codemirror_mode": {
    "name": "ipython",
    "version": 3
   },
   "file_extension": ".py",
   "mimetype": "text/x-python",
   "name": "python",
   "nbconvert_exporter": "python",
   "pygments_lexer": "ipython3",
   "version": "3.7.6"
  }
 },
 "nbformat": 4,
 "nbformat_minor": 4
}
