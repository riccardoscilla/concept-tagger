{
 "cells": [
  {
   "cell_type": "code",
   "execution_count": 5,
   "metadata": {},
   "outputs": [],
   "source": [
    "from preprocessing import *\n",
    "import pandas as pd\n",
    "import os\n",
    "from fst4conll import *\n",
    "from conll import *\n",
    "%matplotlib inline\n",
    "import matplotlib.pyplot as plt\n",
    "import numpy as np"
   ]
  },
  {
   "cell_type": "code",
   "execution_count": 6,
   "metadata": {},
   "outputs": [],
   "source": [
    "%%bash\n",
    "dpath='NL2SparQL4NLU/dataset/NL2SparQL4NLU'\n",
    "spath='dataset'\n",
    "mkdir -p $spath\n",
    "\n",
    "cp $dpath.train.utterances.txt $spath/trn.txt\n",
    "cp $dpath.test.utterances.txt $spath/tst.txt\n",
    "\n",
    "cp $dpath.train.conll.txt $spath/trn.conll\n",
    "cp $dpath.test.conll.txt $spath/tst.conll"
   ]
  },
  {
   "cell_type": "markdown",
   "metadata": {},
   "source": [
    "## Joint Distribution Modeling"
   ]
  },
  {
   "cell_type": "code",
   "execution_count": 7,
   "metadata": {},
   "outputs": [],
   "source": [
    "#generate files\n",
    "if not os.path.exists('JointDist'):\n",
    "    os.makedirs('JointDist')\n",
    "    \n",
    "trn = read_corpus_conll('dataset/trn.conll')\n",
    "wt_sents = [[\"+\".join(w) for w in s] for s in trn]\n",
    "tf_min = 1\n",
    "wt_osyms,out = cutoff(wt_sents,tf_min)\n",
    "\n",
    "wt_isyms = [w.split('+')[0] for w in wt_osyms]\n",
    "\n",
    "with open('JointDist/trn.wt.txt', 'w') as f:\n",
    "    for s in wt_sents:\n",
    "        f.write(\" \".join(s) + \"\\n\")\n",
    "        \n",
    "with open('JointDist/osyms.wt.lst.txt', 'w') as f:\n",
    "    f.write(\"\\n\".join(wt_osyms) + \"\\n\")\n",
    "    \n",
    "with open('JointDist/isyms.wt.lst.txt', 'w') as f:\n",
    "    f.write(\"\\n\".join(wt_isyms) + \"\\n\")"
   ]
  },
  {
   "cell_type": "code",
   "execution_count": 8,
   "metadata": {},
   "outputs": [],
   "source": [
    "%%bash\n",
    "#make input/output lexicons\n",
    "bpath='JointDist'\n",
    "ngramsymbols $bpath/osyms.wt.lst.txt $bpath/osyms.wt.txt\n",
    "ngramsymbols $bpath/isyms.wt.lst.txt $bpath/isyms.wt.txt\n",
    "\n",
    "rm $bpath/osyms.wt.lst.txt\n",
    "rm $bpath/isyms.wt.lst.txt"
   ]
  },
  {
   "cell_type": "markdown",
   "metadata": {},
   "source": [
    "## Create Lexicon"
   ]
  },
  {
   "cell_type": "code",
   "execution_count": 9,
   "metadata": {},
   "outputs": [],
   "source": [
    "%%bash \n",
    "#use lexicons with both cutoff\n",
    "bpath='JointDist'\n",
    "cat $bpath/isyms.wt.txt $bpath/osyms.wt.txt | cut -f 1 | sort | uniq > $bpath/lex.lst.txt\n",
    "ngramsymbols $bpath/lex.lst.txt $bpath/lex.txt\n",
    "rm $bpath/lex.lst.txt"
   ]
  },
  {
   "cell_type": "markdown",
   "metadata": {},
   "source": [
    "## Extract test sentences"
   ]
  },
  {
   "cell_type": "code",
   "execution_count": 6,
   "metadata": {},
   "outputs": [],
   "source": [
    "%%bash\n",
    "farcompilestrings \\\n",
    "    --symbols=JointDist/lex.txt \\\n",
    "    --keep_symbols \\\n",
    "    --unknown_symbol='<unk>' \\\n",
    "    dataset/tst.txt tst.far\n",
    "\n",
    "wdir='JointDist/wdir'\n",
    "mkdir -p 'JointDist/wdir'\n",
    "farextract --filename_prefix=\"$wdir/\" tst.far\n",
    "\n",
    "rm tst.far"
   ]
  },
  {
   "cell_type": "markdown",
   "metadata": {},
   "source": [
    "## Create W2WT FST"
   ]
  },
  {
   "cell_type": "code",
   "execution_count": 7,
   "metadata": {},
   "outputs": [],
   "source": [
    "def make_w2t_wt(isyms, sep='+', out='w2wt.tmp'):\n",
    "    special = {'<epsilon>', '<s>', '</s>'}\n",
    "    oov = '<unk>'  # unknown symbol\n",
    "    state = '0'    # wfst specification state\n",
    "    fs = \" \"       # wfst specification column separator\n",
    "    \n",
    "    ist = sorted(list(set([line.strip().split(\"\\t\")[0] for line in open(isyms, 'r')]) - special))\n",
    "    \n",
    "    with open(out, 'w') as f:\n",
    "        for e in ist:\n",
    "            f.write(fs.join([state, state, e.split('+')[0], e]) + \"\\n\")\n",
    "        if tf_min<2:\n",
    "            for e in ist:\n",
    "                f.write(fs.join([state, state, oov, e]) + \"\\n\")  \n",
    "        f.write(state + \"\\n\")"
   ]
  },
  {
   "cell_type": "code",
   "execution_count": 8,
   "metadata": {},
   "outputs": [],
   "source": [
    "make_w2t_wt('JointDist/osyms.wt.txt', out='JointDist/w2wt_wt.txt')"
   ]
  },
  {
   "cell_type": "code",
   "execution_count": 1,
   "metadata": {},
   "outputs": [
    {
     "name": "stdout",
     "output_type": "stream",
     "text": [
      "fst type                                          vector\n",
      "arc type                                          standard\n",
      "input symbol table                                JointDist/lex.txt\n",
      "output symbol table                               JointDist/lex.txt\n",
      "# of states                                       1\n",
      "# of arcs                                         4520\n",
      "initial state                                     0\n",
      "# of final states                                 1\n"
     ]
    }
   ],
   "source": [
    "%%bash\n",
    "# Let's compile it\n",
    "fstcompile \\\n",
    "    --isymbols=JointDist/lex.txt \\\n",
    "    --osymbols=JointDist/lex.txt \\\n",
    "    --keep_isymbols \\\n",
    "    --keep_osymbols \\\n",
    "    JointDist/w2wt_wt.txt | fstarcsort - > JointDist/w2wt_wt.bin\n",
    "    \n",
    "fstinfo JointDist/w2wt_wt.bin | head -n 8"
   ]
  },
  {
   "cell_type": "markdown",
   "metadata": {},
   "source": [
    "## Create language models"
   ]
  },
  {
   "cell_type": "code",
   "execution_count": 11,
   "metadata": {},
   "outputs": [],
   "source": [
    "%%bash\n",
    "#CREATE LANGUAGE MODELS\n",
    "mkdir -p 'JointDist/models'\n",
    "lmpath='JointDist/models'\n",
    "bpath='JointDist/'\n",
    "for ngram in 1 2 3 4 5\n",
    "do\n",
    "    for smooth in \"absolute\" \"witten_bell\" \"kneser_ney\" \"katz\" \"presmoothed\" \"unsmoothed\"\n",
    "    do\n",
    "        farcompilestrings --symbols=$bpath/lex.txt --keep_symbols \\\n",
    "                          --unknown_symbol='<unk>' $bpath/trn.wt.txt $bpath/trn.far\n",
    "        ngramcount --order=$ngram $bpath/trn.far $bpath/trn.cnt\n",
    "        ngrammake --method=$smooth $bpath/trn.cnt $lmpath/$smooth.$ngram.lm\n",
    "        rm $bpath/trn.cnt\n",
    "        rm $bpath/trn.far\n",
    "    done\n",
    "done"
   ]
  },
  {
   "cell_type": "markdown",
   "metadata": {},
   "source": [
    "## Test on one sentence"
   ]
  },
  {
   "cell_type": "code",
   "execution_count": 11,
   "metadata": {},
   "outputs": [
    {
     "name": "stdout",
     "output_type": "stream",
     "text": [
      "0\t1\tcast\tcast\n",
      "1\t2\tand\tand\n",
      "2\t3\tcrew\tcrew\n",
      "3\t4\tfor\tfor\n",
      "4\t5\tin\tin\n",
      "5\t6\tjuly\tjuly\n",
      "6\n",
      "0\t1\tcast\tcast+O\t5.74118996\n",
      "1\t2\tand\tand+O\t0.601551354\n",
      "2\t3\tcrew\tcrew+O\t0.660670996\n",
      "3\t4\tfor\tfor+O\t0.737131655\n",
      "4\t5\tin\tin+B-movie.name\t4.26451397\n",
      "5\t6\tjuly\tjuly+I-movie.name\t0.215878397\n",
      "6\t0.245315641\n"
     ]
    }
   ],
   "source": [
    "%%bash\n",
    "##TEST\n",
    "wdir='JointDist/wdir'\n",
    "\n",
    "cp $wdir/tst.txt-0009 sent.fsa\n",
    "\n",
    "fstprint --isymbols=JointDist/lex.txt --osymbols=JointDist/lex.txt sent.fsa\n",
    "\n",
    "fstcompose sent.fsa JointDist/w2wt_wt.bin |\\\n",
    "fstcompose - JointDist/models/absolute.2.lm |\\\n",
    "fstshortestpath | fstrmepsilon | fsttopsort |\\\n",
    "fstprint --isymbols=JointDist/lex.txt"
   ]
  },
  {
   "cell_type": "markdown",
   "metadata": {},
   "source": [
    "## Loop on test set"
   ]
  },
  {
   "cell_type": "code",
   "execution_count": 12,
   "metadata": {},
   "outputs": [],
   "source": [
    "%%bash\n",
    "wdir='JointDist/wdir'\n",
    "farr=($(ls $wdir))\n",
    "mkdir -p 'JointDist/result'\n",
    "mkdir -p 'JointDist/scores'\n",
    "rpath='JointDist/result'\n",
    "\n",
    "for ngo in 1 2 3 4 5\n",
    "do\n",
    "    for lm in \"absolute\" \"witten_bell\" \"kneser_ney\" \"katz\" \"presmoothed\" \"unsmoothed\"\n",
    "    do\n",
    "        for f in ${farr[@]}\n",
    "        do\n",
    "            fstcompose $wdir/$f JointDist/w2wt_wt.bin |\\\n",
    "            fstcompose - JointDist/models/$lm.$ngo.lm |\\\n",
    "            fstshortestpath | fstrmepsilon | fsttopsort |\\\n",
    "            fstprint --isymbols=JointDist/lex.txt\n",
    "        done > $rpath/pred.$lm.$ngo.txt\n",
    "    done\n",
    "done"
   ]
  },
  {
   "cell_type": "markdown",
   "metadata": {},
   "source": [
    "## Evaluation"
   ]
  },
  {
   "cell_type": "code",
   "execution_count": 13,
   "metadata": {
    "scrolled": false
   },
   "outputs": [
    {
     "data": {
      "image/png": "[encoded data removed]",
      "text/plain": [
       "<Figure size 576x360 with 1 Axes>"
      ]
     },
     "metadata": {
      "needs_background": "light"
     },
     "output_type": "display_data"
    },
    {
     "name": "stdout",
     "output_type": "stream",
     "text": [
      "cutoff:  1\n",
      "           0          1          2          3          4\n",
      "0  57.441253  77.823503  77.993674  78.516508  78.716674\n",
      "1  57.441253  78.431373  78.084049  78.645598  78.842676\n",
      "2  57.441253  78.117862  79.073990  79.344859  79.490678\n",
      "3  57.441253  78.411684  77.607914  77.767777  77.767777\n",
      "4  57.441253  77.144140  77.762983  77.487837  77.487837\n",
      "5  57.441253  78.090909  78.897424  78.519856  78.771454\n"
     ]
    }
   ],
   "source": [
    "ngrams = [1,2,3,4,5]\n",
    "smoothing_methods = [\"absolute\", \"witten_bell\", \"kneser_ney\", \"katz\", \"presmoothed\", \"unsmoothed\"]\n",
    "f1scores = []\n",
    "\n",
    "with open(\"JointDist/scores/cf{}.txt\".format(tf_min), 'w') as f:\n",
    "    f.write(\"Cutoff: {}\\n\".format(tf_min))               \n",
    "    for sm in smoothing_methods:\n",
    "        sms = []    \n",
    "        f.write(\"Smoothing method: {}\\n\".format(sm))\n",
    "        for ngo in ngrams:\n",
    "\n",
    "            refs = read_corpus_conll('dataset/tst.conll')\n",
    "            hyps = read_fst4conll('JointDist/result/pred.'+sm+'.'+str(ngo)+'.txt', split=True)\n",
    "            results = evaluate(refs, hyps)\n",
    "        \n",
    "            pd_tbl = pd.DataFrame().from_dict(results, orient='index').iloc[-1:]\n",
    "            val = pd.DataFrame().from_dict(results, orient='index').iloc[-1,pd_tbl.columns.get_loc('f')]*100\n",
    "            sms.append(val)\n",
    "            f.write(\"{}: {}\\t\".format(ngo,round(val,3)))\n",
    "\n",
    "        f1scores.append(sms)\n",
    "        f.write(\"\\n\")\n",
    "\n",
    "#------------------PLOT---------------------\n",
    "plt.figure(figsize=(8,5))\n",
    "for sm in range(len(smoothing_methods)):\n",
    "    plt.plot(ngrams,f1scores[sm], label=smoothing_methods[sm])\n",
    "plt.title(\"F1 score for different smoothing methods\")\n",
    "plt.xlabel(\"ngram order\")\n",
    "plt.ylabel(\"F1 score\")\n",
    "plt.legend(loc='best')\n",
    "plt.xticks(ngrams)\n",
    "plt.grid()\n",
    "plt.show()\n",
    "\n",
    "print(\"cutoff: \",tf_min)\n",
    "print(pd.DataFrame(f1scores))"
   ]
  }
 ],
 "metadata": {
  "kernelspec": {
   "display_name": "Python 3",
   "language": "python",
   "name": "python3"
  },
  "language_info": {
   "codemirror_mode": {
    "name": "ipython",
    "version": 3
   },
   "file_extension": ".py",
   "mimetype": "text/x-python",
   "name": "python",
   "nbconvert_exporter": "python",
   "pygments_lexer": "ipython3",
   "version": "3.7.6"
  }
 },
 "nbformat": 4,
 "nbformat_minor": 4
}
